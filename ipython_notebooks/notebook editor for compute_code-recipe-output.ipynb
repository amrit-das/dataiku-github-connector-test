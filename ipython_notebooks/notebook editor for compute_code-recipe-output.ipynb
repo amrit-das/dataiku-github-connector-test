{
  "nbformat": 4,
  "nbformat_minor": 0,
  "metadata": {
    "kernelspec": {
      "display_name": "Python in CPU-M-1-cpu-4Gb-Ram (builtin env)",
      "language": "python",
      "name": "py-dku-containerized-venv--cpu-m-1-cpu-4gb-ram"
    },
    "associatedRecipe": "compute_code-recipe-output",
    "creator": "amritdas1998@gmail.com",
    "createdOn": 1732519718672,
    "tags": [
      "recipe-editor"
    ],
    "customFields": {}
  },
  "cells": [
    {
      "cell_type": "code",
      "metadata": {},
      "outputs": [],
      "execution_count": 0,
      "source": [
        "# -*- coding: utf-8 -*-\n",
        "import dataiku\n",
        "import pandas as pd, numpy as np\n",
        "from dataiku import pandasutils as pdu\n",
        "\n",
        "# Read recipe inputs\n",
        "loan_data \u003d dataiku.Dataset(\"loan_data\")\n",
        "loan_data_df \u003d loan_data.get_dataframe()\n",
        "\n",
        "\n",
        "# Compute recipe outputs from inputs\n",
        "# TODO: Replace this part by your actual code that computes the output, as a Pandas dataframe\n",
        "# NB: DSS also supports other kinds of APIs for reading and writing data. Please see doc.\n",
        "\n",
        "code_recipe_output_df \u003d loan_data_df # For this sample code, simply copy input to output\n",
        "\n",
        "\n",
        "# Write recipe outputs\n",
        "code_recipe_output \u003d dataiku.Dataset(\"code-recipe-output\")\n",
        "code_recipe_output.write_with_schema(code_recipe_output_df)"
      ]
    }
  ]
}