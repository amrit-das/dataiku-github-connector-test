{
  "metadata": {
    "kernelspec": {
      "name": "py-dku-containerized-venv--cpu-m-1-cpu-4gb-ram",
      "display_name": "Python in CPU-M-1-cpu-4Gb-Ram (builtin env)",
      "language": "python"
    },
    "hide_input": false,
    "language_info": {
      "name": "python",
      "version": "3.9.20",
      "mimetype": "text/x-python",
      "codemirror_mode": {
        "name": "ipython",
        "version": 3
      },
      "pygments_lexer": "ipython3",
      "nbconvert_exporter": "python",
      "file_extension": ".py"
    },
    "customFields": {},
    "createdOn": 1732519718672,
    "tags": [
      "deleted-recipe-editor"
    ],
    "creator": "amritdas1998@gmail.com",
    "modifiedBy": "amritdas1998@gmail.com"
  },
  "nbformat": 4,
  "nbformat_minor": 1,
  "cells": [
    {
      "execution_count": 0,
      "cell_type": "code",
      "metadata": {},
      "source": [
        "# -*- coding: utf-8 -*-\nimport dataiku\nimport pandas as pd, numpy as np\nfrom dataiku import pandasutils as pdu\n\n# Read recipe inputs\nloan_data \u003d dataiku.Dataset(\"loan_data\")\nloan_data_df \u003d loan_data.get_dataframe()\n\ncode_recipe_output_df \u003d loan_data_df\n\n\n# Write recipe outputs\ncode_recipe_output \u003d dataiku.Dataset(\"code-recipe-output\")\ncode_recipe_output.write_with_schema(code_recipe_output_df)"
      ],
      "outputs": []
    },
    {
      "execution_count": 0,
      "cell_type": "code",
      "metadata": {},
      "source": [
        "from sklearn.preprocessing import MinMaxScaler,OneHotEncoder,LabelEncoder\n\nfrom sklearn.preprocessing import MinMaxScaler\n\nfrom sklearn.linear_model import LinearRegression,LogisticRegression\n\nfrom sklearn.neighbors import KNeighborsClassifier,KNeighborsRegressor\n\nfrom sklearn.cluster import KMeans\n\nfrom sklearn.decomposition import PCA\n\nfrom sklearn.ensemble import RandomForestClassifier,RandomForestRegressor\n\nfrom sklearn.tree import DecisionTreeClassifier,DecisionTreeRegressor\n\nfrom sklearn.ensemble import AdaBoostClassifier,VotingClassifier\n\nfrom sklearn.model_selection import train_test_split\n\nfrom sklearn.preprocessing import PolynomialFeatures\n\nimport xgboost as xgb\n\nfrom sklearn.svm import SVC\n\nfrom sklearn.metrics import confusion_matrix, accuracy_score,r2_score ,mean_squared_error\n\nimport pandas as pd"
      ],
      "outputs": []
    }
  ]
}